{
 "cells": [
  {
   "cell_type": "markdown",
   "metadata": {},
   "source": [
    "## Install `landmapy` Package and check it"
   ]
  },
  {
   "cell_type": "code",
   "execution_count": 1,
   "metadata": {},
   "outputs": [
    {
     "name": "stdout",
     "output_type": "stream",
     "text": [
      "Processing /Users/brianyandell/Documents/GitHub/landmapy\n",
      "  Installing build dependencies ... \u001b[?25ldone\n",
      "\u001b[?25h  Getting requirements to build wheel ... \u001b[?25ldone\n",
      "\u001b[?25h  Preparing metadata (pyproject.toml) ... \u001b[?25ldone\n",
      "\u001b[?25hRequirement already satisfied: cartopy in /Users/brianyandell/miniconda3/envs/earth-analytics-python/lib/python3.11/site-packages (from landmapy==0.2) (0.24.0)\n",
      "Requirement already satisfied: geopandas in /Users/brianyandell/miniconda3/envs/earth-analytics-python/lib/python3.11/site-packages (from landmapy==0.2) (1.0.1)\n",
      "Requirement already satisfied: hvplot in /Users/brianyandell/miniconda3/envs/earth-analytics-python/lib/python3.11/site-packages (from landmapy==0.2) (0.11.1)\n",
      "Requirement already satisfied: matplotlib in /Users/brianyandell/miniconda3/envs/earth-analytics-python/lib/python3.11/site-packages (from landmapy==0.2) (3.9.2)\n",
      "Requirement already satisfied: numpy in /Users/brianyandell/miniconda3/envs/earth-analytics-python/lib/python3.11/site-packages (from landmapy==0.2) (2.0.2)\n",
      "Requirement already satisfied: pandas in /Users/brianyandell/miniconda3/envs/earth-analytics-python/lib/python3.11/site-packages (from landmapy==0.2) (2.2.3)\n",
      "Requirement already satisfied: regionmask in /Users/brianyandell/miniconda3/envs/earth-analytics-python/lib/python3.11/site-packages (from landmapy==0.2) (0.12.1)\n",
      "Requirement already satisfied: rioxarray in /Users/brianyandell/miniconda3/envs/earth-analytics-python/lib/python3.11/site-packages (from landmapy==0.2) (0.17.0)\n",
      "Requirement already satisfied: shapely>=1.8 in /Users/brianyandell/miniconda3/envs/earth-analytics-python/lib/python3.11/site-packages (from cartopy->landmapy==0.2) (2.0.6)\n",
      "Requirement already satisfied: packaging>=21 in /Users/brianyandell/miniconda3/envs/earth-analytics-python/lib/python3.11/site-packages (from cartopy->landmapy==0.2) (24.2)\n",
      "Requirement already satisfied: pyshp>=2.3 in /Users/brianyandell/miniconda3/envs/earth-analytics-python/lib/python3.11/site-packages (from cartopy->landmapy==0.2) (2.3.1)\n",
      "Requirement already satisfied: pyproj>=3.3.1 in /Users/brianyandell/miniconda3/envs/earth-analytics-python/lib/python3.11/site-packages (from cartopy->landmapy==0.2) (3.7.0)\n",
      "Requirement already satisfied: contourpy>=1.0.1 in /Users/brianyandell/miniconda3/envs/earth-analytics-python/lib/python3.11/site-packages (from matplotlib->landmapy==0.2) (1.3.1)\n",
      "Requirement already satisfied: cycler>=0.10 in /Users/brianyandell/miniconda3/envs/earth-analytics-python/lib/python3.11/site-packages (from matplotlib->landmapy==0.2) (0.12.1)\n",
      "Requirement already satisfied: fonttools>=4.22.0 in /Users/brianyandell/miniconda3/envs/earth-analytics-python/lib/python3.11/site-packages (from matplotlib->landmapy==0.2) (4.55.0)\n",
      "Requirement already satisfied: kiwisolver>=1.3.1 in /Users/brianyandell/miniconda3/envs/earth-analytics-python/lib/python3.11/site-packages (from matplotlib->landmapy==0.2) (1.4.7)\n",
      "Requirement already satisfied: pillow>=8 in /Users/brianyandell/miniconda3/envs/earth-analytics-python/lib/python3.11/site-packages (from matplotlib->landmapy==0.2) (11.0.0)\n",
      "Requirement already satisfied: pyparsing>=2.3.1 in /Users/brianyandell/miniconda3/envs/earth-analytics-python/lib/python3.11/site-packages (from matplotlib->landmapy==0.2) (3.2.0)\n",
      "Requirement already satisfied: python-dateutil>=2.7 in /Users/brianyandell/miniconda3/envs/earth-analytics-python/lib/python3.11/site-packages (from matplotlib->landmapy==0.2) (2.9.0.post0)\n",
      "Requirement already satisfied: pyogrio>=0.7.2 in /Users/brianyandell/miniconda3/envs/earth-analytics-python/lib/python3.11/site-packages (from geopandas->landmapy==0.2) (0.10.0)\n",
      "Requirement already satisfied: pytz>=2020.1 in /Users/brianyandell/miniconda3/envs/earth-analytics-python/lib/python3.11/site-packages (from pandas->landmapy==0.2) (2024.1)\n",
      "Requirement already satisfied: tzdata>=2022.7 in /Users/brianyandell/miniconda3/envs/earth-analytics-python/lib/python3.11/site-packages (from pandas->landmapy==0.2) (2024.2)\n",
      "Requirement already satisfied: bokeh>=3.1 in /Users/brianyandell/miniconda3/envs/earth-analytics-python/lib/python3.11/site-packages (from hvplot->landmapy==0.2) (3.5.2)\n",
      "Requirement already satisfied: colorcet>=2 in /Users/brianyandell/miniconda3/envs/earth-analytics-python/lib/python3.11/site-packages (from hvplot->landmapy==0.2) (3.1.0)\n",
      "Requirement already satisfied: holoviews>=1.19.0 in /Users/brianyandell/miniconda3/envs/earth-analytics-python/lib/python3.11/site-packages (from hvplot->landmapy==0.2) (1.20.0)\n",
      "Requirement already satisfied: panel>=1.0 in /Users/brianyandell/miniconda3/envs/earth-analytics-python/lib/python3.11/site-packages (from hvplot->landmapy==0.2) (1.5.4)\n",
      "Requirement already satisfied: param<3.0,>=1.12.0 in /Users/brianyandell/miniconda3/envs/earth-analytics-python/lib/python3.11/site-packages (from hvplot->landmapy==0.2) (2.1.1)\n",
      "Requirement already satisfied: pooch>=1.4 in /Users/brianyandell/miniconda3/envs/earth-analytics-python/lib/python3.11/site-packages (from regionmask->landmapy==0.2) (1.8.2)\n",
      "Requirement already satisfied: rasterio>=1.2 in /Users/brianyandell/miniconda3/envs/earth-analytics-python/lib/python3.11/site-packages (from regionmask->landmapy==0.2) (1.4.3)\n",
      "Requirement already satisfied: xarray>=0.20 in /Users/brianyandell/miniconda3/envs/earth-analytics-python/lib/python3.11/site-packages (from regionmask->landmapy==0.2) (2024.11.0)\n",
      "Requirement already satisfied: Jinja2>=2.9 in /Users/brianyandell/miniconda3/envs/earth-analytics-python/lib/python3.11/site-packages (from bokeh>=3.1->hvplot->landmapy==0.2) (3.1.4)\n",
      "Requirement already satisfied: PyYAML>=3.10 in /Users/brianyandell/miniconda3/envs/earth-analytics-python/lib/python3.11/site-packages (from bokeh>=3.1->hvplot->landmapy==0.2) (6.0.2)\n",
      "Requirement already satisfied: tornado>=6.2 in /Users/brianyandell/miniconda3/envs/earth-analytics-python/lib/python3.11/site-packages (from bokeh>=3.1->hvplot->landmapy==0.2) (6.4.2)\n",
      "Requirement already satisfied: xyzservices>=2021.09.1 in /Users/brianyandell/miniconda3/envs/earth-analytics-python/lib/python3.11/site-packages (from bokeh>=3.1->hvplot->landmapy==0.2) (2024.9.0)\n",
      "Requirement already satisfied: pyviz-comms>=2.1 in /Users/brianyandell/miniconda3/envs/earth-analytics-python/lib/python3.11/site-packages (from holoviews>=1.19.0->hvplot->landmapy==0.2) (3.0.3)\n",
      "Requirement already satisfied: bleach in /Users/brianyandell/miniconda3/envs/earth-analytics-python/lib/python3.11/site-packages (from panel>=1.0->hvplot->landmapy==0.2) (6.2.0)\n",
      "Requirement already satisfied: linkify-it-py in /Users/brianyandell/miniconda3/envs/earth-analytics-python/lib/python3.11/site-packages (from panel>=1.0->hvplot->landmapy==0.2) (2.0.3)\n",
      "Requirement already satisfied: markdown in /Users/brianyandell/miniconda3/envs/earth-analytics-python/lib/python3.11/site-packages (from panel>=1.0->hvplot->landmapy==0.2) (3.6)\n",
      "Requirement already satisfied: markdown-it-py in /Users/brianyandell/miniconda3/envs/earth-analytics-python/lib/python3.11/site-packages (from panel>=1.0->hvplot->landmapy==0.2) (3.0.0)\n",
      "Requirement already satisfied: mdit-py-plugins in /Users/brianyandell/miniconda3/envs/earth-analytics-python/lib/python3.11/site-packages (from panel>=1.0->hvplot->landmapy==0.2) (0.4.2)\n",
      "Requirement already satisfied: requests in /Users/brianyandell/miniconda3/envs/earth-analytics-python/lib/python3.11/site-packages (from panel>=1.0->hvplot->landmapy==0.2) (2.32.3)\n",
      "Requirement already satisfied: tqdm in /Users/brianyandell/miniconda3/envs/earth-analytics-python/lib/python3.11/site-packages (from panel>=1.0->hvplot->landmapy==0.2) (4.67.1)\n",
      "Requirement already satisfied: typing-extensions in /Users/brianyandell/miniconda3/envs/earth-analytics-python/lib/python3.11/site-packages (from panel>=1.0->hvplot->landmapy==0.2) (4.12.2)\n",
      "Requirement already satisfied: platformdirs>=2.5.0 in /Users/brianyandell/miniconda3/envs/earth-analytics-python/lib/python3.11/site-packages (from pooch>=1.4->regionmask->landmapy==0.2) (4.3.6)\n",
      "Requirement already satisfied: certifi in /Users/brianyandell/miniconda3/envs/earth-analytics-python/lib/python3.11/site-packages (from pyogrio>=0.7.2->geopandas->landmapy==0.2) (2024.8.30)\n",
      "Requirement already satisfied: six>=1.5 in /Users/brianyandell/miniconda3/envs/earth-analytics-python/lib/python3.11/site-packages (from python-dateutil>=2.7->matplotlib->landmapy==0.2) (1.16.0)\n",
      "Requirement already satisfied: affine in /Users/brianyandell/miniconda3/envs/earth-analytics-python/lib/python3.11/site-packages (from rasterio>=1.2->regionmask->landmapy==0.2) (2.4.0)\n",
      "Requirement already satisfied: attrs in /Users/brianyandell/miniconda3/envs/earth-analytics-python/lib/python3.11/site-packages (from rasterio>=1.2->regionmask->landmapy==0.2) (24.2.0)\n",
      "Requirement already satisfied: click>=4.0 in /Users/brianyandell/miniconda3/envs/earth-analytics-python/lib/python3.11/site-packages (from rasterio>=1.2->regionmask->landmapy==0.2) (8.1.7)\n",
      "Requirement already satisfied: cligj>=0.5 in /Users/brianyandell/miniconda3/envs/earth-analytics-python/lib/python3.11/site-packages (from rasterio>=1.2->regionmask->landmapy==0.2) (0.7.2)\n",
      "Requirement already satisfied: click-plugins in /Users/brianyandell/miniconda3/envs/earth-analytics-python/lib/python3.11/site-packages (from rasterio>=1.2->regionmask->landmapy==0.2) (1.1.1)\n",
      "Requirement already satisfied: MarkupSafe>=2.0 in /Users/brianyandell/miniconda3/envs/earth-analytics-python/lib/python3.11/site-packages (from Jinja2>=2.9->bokeh>=3.1->hvplot->landmapy==0.2) (3.0.2)\n",
      "Requirement already satisfied: charset-normalizer<4,>=2 in /Users/brianyandell/miniconda3/envs/earth-analytics-python/lib/python3.11/site-packages (from requests->panel>=1.0->hvplot->landmapy==0.2) (3.4.0)\n",
      "Requirement already satisfied: idna<4,>=2.5 in /Users/brianyandell/miniconda3/envs/earth-analytics-python/lib/python3.11/site-packages (from requests->panel>=1.0->hvplot->landmapy==0.2) (3.10)\n",
      "Requirement already satisfied: urllib3<3,>=1.21.1 in /Users/brianyandell/miniconda3/envs/earth-analytics-python/lib/python3.11/site-packages (from requests->panel>=1.0->hvplot->landmapy==0.2) (2.2.3)\n",
      "Requirement already satisfied: webencodings in /Users/brianyandell/miniconda3/envs/earth-analytics-python/lib/python3.11/site-packages (from bleach->panel>=1.0->hvplot->landmapy==0.2) (0.5.1)\n",
      "Requirement already satisfied: uc-micro-py in /Users/brianyandell/miniconda3/envs/earth-analytics-python/lib/python3.11/site-packages (from linkify-it-py->panel>=1.0->hvplot->landmapy==0.2) (1.0.3)\n",
      "Requirement already satisfied: mdurl~=0.1 in /Users/brianyandell/miniconda3/envs/earth-analytics-python/lib/python3.11/site-packages (from markdown-it-py->panel>=1.0->hvplot->landmapy==0.2) (0.1.2)\n",
      "Building wheels for collected packages: landmapy\n",
      "  Building wheel for landmapy (pyproject.toml) ... \u001b[?25ldone\n",
      "\u001b[?25h  Created wheel for landmapy: filename=landmapy-0.2-py3-none-any.whl size=20615 sha256=a2eb2368abe11c5297e378da4513f41aad394facf283a7163baf8bebbe7fb5d9\n",
      "  Stored in directory: /private/var/folders/tt/cyd1sy9s18l1fgc_0ty8l91w0000gn/T/pip-ephem-wheel-cache-_kh46z4w/wheels/d4/8b/49/f05ffe83c93ff1cc194a4161d132e5ba0632f5ae288edbcd13\n",
      "Successfully built landmapy\n",
      "Installing collected packages: landmapy\n",
      "  Attempting uninstall: landmapy\n",
      "    Found existing installation: landmapy 0.1\n",
      "    Uninstalling landmapy-0.1:\n",
      "      Successfully uninstalled landmapy-0.1\n",
      "Successfully installed landmapy-0.2\n",
      "Note: you may need to restart the kernel to use updated packages.\n"
     ]
    }
   ],
   "source": [
    "pip install ~/Documents/GitHub/landmapy"
   ]
  },
  {
   "cell_type": "code",
   "execution_count": 2,
   "metadata": {},
   "outputs": [
    {
     "name": "stdout",
     "output_type": "stream",
     "text": [
      "Help on package landmapy:\n",
      "\n",
      "NAME\n",
      "    landmapy - Package landmapy.\n",
      "\n",
      "DESCRIPTION\n",
      "    Functions:\n",
      "        redline.redline_gdf(data_dir)\n",
      "        redline.plot_redline(redlining_gdf)\n",
      "        process.process_image(uri, bounds_gdf)\n",
      "        process.process_cloud_mask(cloud_uri, bounds_gdf, bits_to_mask)\n",
      "        process.process_metadata(city_files)\n",
      "        process.process_bands(city_gdf, raster_df)\n",
      "        index.plot_index(city_ndvi_da, city)\n",
      "        index.redline_over_index(city_redlining_gdf, city_ndvi_da)\n",
      "        index.redline_mask(city_redlining_gdf, city_ndvi_da)\n",
      "        index.redline_index_gdf(redlining_gdf, ndvi_stats)\n",
      "        index.index_grade_hv(redlining_ndvi_gdf, city)\n",
      "        index.index_tree(redlining_ndvi_gdf)\n",
      "        index.plot_index_pred(redlining_ndvi_gdf, tree_classifier, city)\n",
      "\n",
      "PACKAGE CONTENTS\n",
      "    example\n",
      "    fibo\n",
      "    index\n",
      "    process\n",
      "    redline\n",
      "\n",
      "FILE\n",
      "    /Users/brianyandell/Documents/GitHub/landmapy/landmapy/__init__.py\n",
      "\n",
      "\n"
     ]
    }
   ],
   "source": [
    "import landmapy\n",
    "help(landmapy)"
   ]
  },
  {
   "cell_type": "code",
   "execution_count": 3,
   "metadata": {},
   "outputs": [
    {
     "name": "stdout",
     "output_type": "stream",
     "text": [
      "Help on module landmapy.redline in landmapy:\n",
      "\n",
      "NAME\n",
      "    landmapy.redline - Redline functions.\n",
      "\n",
      "DESCRIPTION\n",
      "    Read redlining data for US cities and plot a map.\n",
      "\n",
      "FUNCTIONS\n",
      "    plot_redline(redlining_gdf)\n",
      "        Plot overlay of redlining GeoDataFrame with state boundaries.\n",
      "        \n",
      "        Parameters\n",
      "        ----------\n",
      "        redlining_gdf: GeoDataFrame object\n",
      "          `gdf` with redlining cities\n",
      "        \n",
      "        Returns\n",
      "        -------\n",
      "        cropped_da: rxr.DataArray\n",
      "          Processed raster\n",
      "    \n",
      "    redline_gdf(data_dir)\n",
      "        Read redlining GeoDataFrame from Mapping Inequality.\n",
      "        \n",
      "        Parameters\n",
      "        ----------\n",
      "        data_dir: character string\n",
      "          Name of data directory\n",
      "        \n",
      "        Returns\n",
      "        -------\n",
      "        redlining_gdf: GeoDataFrame\n",
      "          GeoDataFrame\n",
      "\n",
      "FILE\n",
      "    /Users/brianyandell/Documents/GitHub/landmapy/landmapy/redline.py\n",
      "\n",
      "\n"
     ]
    }
   ],
   "source": [
    "from landmapy import redline\n",
    "help(redline)"
   ]
  },
  {
   "cell_type": "code",
   "execution_count": 4,
   "metadata": {},
   "outputs": [
    {
     "name": "stdout",
     "output_type": "stream",
     "text": [
      "Help on module landmapy.process in landmapy:\n",
      "\n",
      "NAME\n",
      "    landmapy.process - Process functions.\n",
      "\n",
      "DESCRIPTION\n",
      "    Process metadata into raster DataArray,\n",
      "    which is used to process multi-spectral image bands.\n",
      "    Function `process_bands` calls `process_image` and `process_cloud_mask`.\n",
      "\n",
      "FUNCTIONS\n",
      "    process_bands(city_gdf, raster_df)\n",
      "        Process bands from GeoDataFrame and metadata.\n",
      "        \n",
      "        Parameters\n",
      "        ----------\n",
      "        city_gdf: GeoDataFrame\n",
      "          GeoDataFrame for a city\n",
      "        raster_df: DataFrame\n",
      "          DataFrame of city metadata\n",
      "        \n",
      "        Returns\n",
      "        -------\n",
      "        city_das: DataArray\n",
      "          DataArray with image data\n",
      "    \n",
      "    process_cloud_mask(cloud_uri, bounds_gdf, bits_to_mask)\n",
      "        Load an 8-bit Fmask file and process to a boolean mask.\n",
      "        \n",
      "        Parameters\n",
      "        ----------\n",
      "        uri: file-like or path-like\n",
      "          Fmask file accessor downloaded or obtained from earthaccess\n",
      "        bounds_gdf: gpd.GeoDataFrame\n",
      "          Area of interest to crop to\n",
      "        bits_to_mask: list of int\n",
      "          The indices of the bits to mask if set\n",
      "        \n",
      "        Returns\n",
      "        -------\n",
      "        cloud_mask: np.array\n",
      "          Cloud mask\n",
      "    \n",
      "    process_image(uri, bounds_gdf)\n",
      "        Load, crop, and scale a raster image from earthaccess.\n",
      "        \n",
      "        Parameters\n",
      "        ----------\n",
      "        uri: file-like or path-like\n",
      "          File accessor downloaded or obtained from earthaccess\n",
      "        bounds_gdf: gpd.GeoDataFrame\n",
      "          Area of interest to crop to\n",
      "        \n",
      "        Returns\n",
      "        -------\n",
      "        cropped_da: rxr.DataArray\n",
      "          Processed raster\n",
      "    \n",
      "    process_metadata(city_files)\n",
      "        Process raster data from earthaccess metadata.\n",
      "        \n",
      "        Parameters\n",
      "        ----------\n",
      "        city_files: file-like URI\n",
      "          File names from earthaccess\n",
      "        \n",
      "        Returns\n",
      "        -------\n",
      "        raster_df: DataFrame\n",
      "          DataFrame with the metadata\n",
      "\n",
      "FILE\n",
      "    /Users/brianyandell/Documents/GitHub/landmapy/landmapy/process.py\n",
      "\n",
      "\n"
     ]
    }
   ],
   "source": [
    "from landmapy import process\n",
    "help(process)"
   ]
  },
  {
   "cell_type": "code",
   "execution_count": 5,
   "metadata": {},
   "outputs": [
    {
     "name": "stdout",
     "output_type": "stream",
     "text": [
      "Help on module landmapy.index in landmapy:\n",
      "\n",
      "NAME\n",
      "    landmapy.index - Index functions.\n",
      "\n",
      "DESCRIPTION\n",
      "    Plot map for created index and overlay with redlining grades.\n",
      "    Mask map by redline grades and create a `GeoDataFrame`.\n",
      "    Fit a tree model and compare maps.\n",
      "\n",
      "FUNCTIONS\n",
      "    index_grade_hv(redlining_ndvi_gdf, city)\n",
      "        HV plots for index and grade.\n",
      "                \n",
      "        Parameters\n",
      "        ----------\n",
      "        redlining_ndvi_gdf: GeoDataFrame\n",
      "          GeoDataFrame with zonal stats.\n",
      "        city: character string\n",
      "          Name of selected city\n",
      "        \n",
      "        Returns\n",
      "        -------\n",
      "        ndvi_hv, grade_hv: hvplot\n",
      "          HV plot objects for mean index and redline grade.\n",
      "    \n",
      "    index_tree(redlining_ndvi_gdf)\n",
      "        Convert categories to numbers\n",
      "                \n",
      "        Parameters\n",
      "        ----------\n",
      "        redlining_ndvi_gdf: GeoDataFrame\n",
      "          GeoDataFrame with zonal stats.\n",
      "        \n",
      "        Returns\n",
      "        -------\n",
      "        tree_classifier: decision_tree\n",
      "          Decision tree for classifier.\n",
      "    \n",
      "    plot_index(city_ndvi_da, city)\n",
      "        Show plot of index.\n",
      "        \n",
      "        Parameters\n",
      "        ----------\n",
      "        city_ndvi_da: DataArray\n",
      "          DataArray containing NDVI index for city\n",
      "        city: character string\n",
      "          Name of selected city\n",
      "    \n",
      "    plot_index_pred(redlining_ndvi_gdf, tree_classifier, city)\n",
      "        Plot the model results.\n",
      "                \n",
      "        Parameters\n",
      "        ----------\n",
      "        redlining_ndvi_gdf: GeoDataFrame\n",
      "          GeoDataFrame with zonal stats.\n",
      "        tree_classifier: decision_tree\n",
      "          Decision tree for classifier.\n",
      "        city: character string\n",
      "          Name of selected city\n",
      "        \n",
      "        Returns\n",
      "        -------\n",
      "        pred_hv: hvplot\n",
      "          HV plot object for tree classifier.\n",
      "    \n",
      "    redline_index_gdf(redlining_gdf, ndvi_stats)\n",
      "        Merge NDVI stats with redlining geometry into one GeoDataFrame and plot.\n",
      "            \n",
      "        Parameters\n",
      "        ----------\n",
      "        redlining_gdf: GeoDataFrame\n",
      "          GeoDataFrame for redlined city\n",
      "        ndvi_stats: DataArray\n",
      "          DataArray with zonal stats\n",
      "        \n",
      "        Returns\n",
      "        -------\n",
      "        redlining_ndvi_gdf: GeoDataFrame\n",
      "          GeoDataFrame with zonal stats.\n",
      "    \n",
      "    redline_mask(city_redlining_gdf, city_ndvi_da)\n",
      "        Define new variable for denver redlining mask, using regionmask.\n",
      "        \n",
      "        Parameters\n",
      "        ----------\n",
      "        city_redlining_gdf: GeoDataFrame\n",
      "          GeoDataFrame for redlined city\n",
      "        city_ndvi_da: DataArray\n",
      "          DataArray containing NDVI index for city\n",
      "        \n",
      "        Returns\n",
      "        -------\n",
      "        redlining_mask: GeoDataFrame\n",
      "          GeoDataFrame with `regionmask` applied.\n",
      "    \n",
      "    redline_over_index(city_redlining_gdf, city_ndvi_da)\n",
      "        Overlay redlining grades on NDVI map.\n",
      "        \n",
      "        Parameters\n",
      "        ----------\n",
      "        city_redlining_gdf: GeoDataFrame\n",
      "          GeoDataFrame for redlined city\n",
      "        city_ndvi_da: DataArray\n",
      "          DataArray containing NDVI index for city\n",
      "        city: character string\n",
      "          Name of selected city\n",
      "\n",
      "FILE\n",
      "    /Users/brianyandell/Documents/GitHub/landmapy/landmapy/index.py\n",
      "\n",
      "\n"
     ]
    }
   ],
   "source": [
    "from landmapy import index\n",
    "help(index)"
   ]
  },
  {
   "cell_type": "markdown",
   "metadata": {},
   "source": [
    "## Example Uses of demo modules"
   ]
  },
  {
   "cell_type": "code",
   "execution_count": 3,
   "metadata": {},
   "outputs": [
    {
     "name": "stdout",
     "output_type": "stream",
     "text": [
      "0 1 1 2 3 5 8 13 21 34 55 89 144 233 377 610 987 \n"
     ]
    }
   ],
   "source": [
    "from landmapy import fibo\n",
    "fibo.fib(1000)"
   ]
  },
  {
   "cell_type": "code",
   "execution_count": 4,
   "metadata": {},
   "outputs": [
    {
     "name": "stdout",
     "output_type": "stream",
     "text": [
      "0 1 1 2 3 5 8 13 21 34 55 89 144 233 377 \n"
     ]
    }
   ],
   "source": [
    "from landmapy.fibo import fib as fibonacci\n",
    "fibonacci(500)"
   ]
  },
  {
   "cell_type": "code",
   "execution_count": 5,
   "metadata": {},
   "outputs": [
    {
     "data": {
      "text/plain": [
       "6"
      ]
     },
     "execution_count": 5,
     "metadata": {},
     "output_type": "execute_result"
    }
   ],
   "source": [
    "from landmapy.example import add_one\n",
    "add_one(5)"
   ]
  },
  {
   "cell_type": "code",
   "execution_count": 6,
   "metadata": {},
   "outputs": [
    {
     "data": {
      "text/plain": [
       "'__main__'"
      ]
     },
     "execution_count": 6,
     "metadata": {},
     "output_type": "execute_result"
    }
   ],
   "source": [
    "# `__name__` is a special variable with name of module\n",
    "# main module has value '__main__'.\n",
    "__name__"
   ]
  },
  {
   "cell_type": "code",
   "execution_count": 7,
   "metadata": {},
   "outputs": [
    {
     "name": "stdout",
     "output_type": "stream",
     "text": [
      "5.0\n",
      "landmapy.example\n"
     ]
    }
   ],
   "source": [
    "import landmapy.example as example\n",
    "example.div_two(10)\n",
    "example.mod_name()"
   ]
  },
  {
   "cell_type": "code",
   "execution_count": 8,
   "metadata": {},
   "outputs": [
    {
     "data": {
      "text/plain": [
       "['__builtins__',\n",
       " '__cached__',\n",
       " '__doc__',\n",
       " '__file__',\n",
       " '__loader__',\n",
       " '__name__',\n",
       " '__package__',\n",
       " '__spec__',\n",
       " 'add_one',\n",
       " 'div_two',\n",
       " 'mod_name',\n",
       " 'mod_path']"
      ]
     },
     "execution_count": 8,
     "metadata": {},
     "output_type": "execute_result"
    }
   ],
   "source": [
    "dir(example)"
   ]
  },
  {
   "cell_type": "code",
   "execution_count": 2,
   "metadata": {},
   "outputs": [],
   "source": [
    "from landmapy import process_image"
   ]
  },
  {
   "cell_type": "code",
   "execution_count": 3,
   "metadata": {},
   "outputs": [
    {
     "name": "stdout",
     "output_type": "stream",
     "text": [
      "Help on module landmapy.process_image in landmapy:\n",
      "\n",
      "NAME\n",
      "    landmapy.process_image\n",
      "\n",
      "FUNCTIONS\n",
      "    process_image(uri, bounds_gdf)\n",
      "        Load, crop, and scale a raster image from earthaccess\n",
      "        \n",
      "        Parameters\n",
      "        ----------\n",
      "        uri: file-like or path-like\n",
      "          File accessor downloaded or obtained from earthaccess\n",
      "        bounds_gdf: gpd.GeoDataFrame\n",
      "          Area of interest to crop to\n",
      "        \n",
      "        Returns\n",
      "        -------\n",
      "        cropped_da: rxr.DataArray\n",
      "          Processed raster\n",
      "\n",
      "FILE\n",
      "    /Users/brianyandell/Documents/GitHub/landmapy/landmapy/process_image.py\n",
      "\n",
      "\n"
     ]
    }
   ],
   "source": [
    "help(process_image)"
   ]
  }
 ],
 "metadata": {
  "kernelspec": {
   "display_name": "earth-analytics-python",
   "language": "python",
   "name": "python3"
  },
  "language_info": {
   "codemirror_mode": {
    "name": "ipython",
    "version": 3
   },
   "file_extension": ".py",
   "mimetype": "text/x-python",
   "name": "python",
   "nbconvert_exporter": "python",
   "pygments_lexer": "ipython3",
   "version": "3.11.10"
  }
 },
 "nbformat": 4,
 "nbformat_minor": 2
}
